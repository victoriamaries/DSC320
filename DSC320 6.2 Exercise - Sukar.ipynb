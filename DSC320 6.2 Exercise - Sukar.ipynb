{
 "cells": [
  {
   "cell_type": "code",
   "execution_count": 22,
   "metadata": {
    "collapsed": false
   },
   "outputs": [
    {
     "data": {
      "text/html": [
       "<div>\n",
       "<table border=\"1\" class=\"dataframe\">\n",
       "  <thead>\n",
       "    <tr style=\"text-align: right;\">\n",
       "      <th></th>\n",
       "      <th>housing_median_age</th>\n",
       "      <th>total_bedrooms</th>\n",
       "      <th>households</th>\n",
       "      <th>median_income</th>\n",
       "      <th>median_house_value</th>\n",
       "    </tr>\n",
       "  </thead>\n",
       "  <tbody>\n",
       "    <tr>\n",
       "      <th>0</th>\n",
       "      <td>41</td>\n",
       "      <td>129.0</td>\n",
       "      <td>126</td>\n",
       "      <td>8.3252</td>\n",
       "      <td>452600.0</td>\n",
       "    </tr>\n",
       "    <tr>\n",
       "      <th>1</th>\n",
       "      <td>21</td>\n",
       "      <td>1106.0</td>\n",
       "      <td>1138</td>\n",
       "      <td>8.3014</td>\n",
       "      <td>358500.0</td>\n",
       "    </tr>\n",
       "    <tr>\n",
       "      <th>2</th>\n",
       "      <td>52</td>\n",
       "      <td>190.0</td>\n",
       "      <td>177</td>\n",
       "      <td>7.2574</td>\n",
       "      <td>352100.0</td>\n",
       "    </tr>\n",
       "    <tr>\n",
       "      <th>3</th>\n",
       "      <td>52</td>\n",
       "      <td>235.0</td>\n",
       "      <td>219</td>\n",
       "      <td>5.6431</td>\n",
       "      <td>341300.0</td>\n",
       "    </tr>\n",
       "    <tr>\n",
       "      <th>4</th>\n",
       "      <td>52</td>\n",
       "      <td>280.0</td>\n",
       "      <td>259</td>\n",
       "      <td>3.8462</td>\n",
       "      <td>342200.0</td>\n",
       "    </tr>\n",
       "  </tbody>\n",
       "</table>\n",
       "</div>"
      ],
      "text/plain": [
       "   housing_median_age  total_bedrooms  households  median_income  \\\n",
       "0                  41           129.0         126         8.3252   \n",
       "1                  21          1106.0        1138         8.3014   \n",
       "2                  52           190.0         177         7.2574   \n",
       "3                  52           235.0         219         5.6431   \n",
       "4                  52           280.0         259         3.8462   \n",
       "\n",
       "   median_house_value  \n",
       "0            452600.0  \n",
       "1            358500.0  \n",
       "2            352100.0  \n",
       "3            341300.0  \n",
       "4            342200.0  "
      ]
     },
     "execution_count": 22,
     "metadata": {},
     "output_type": "execute_result"
    }
   ],
   "source": [
    "# import libraries\n",
    "import pandas as pd\n",
    "import numpy as np\n",
    "import statistics\n",
    "\n",
    "# import csv\n",
    "df_main = pd.read_csv('calif_housing_data.csv')\n",
    "df_main.head(5)"
   ]
  },
  {
   "cell_type": "code",
   "execution_count": 18,
   "metadata": {
    "collapsed": false
   },
   "outputs": [
    {
     "data": {
      "text/plain": [
       "array([ 0.53966842,  0.53802706,  0.46602805, ...,  0.08276438,\n",
       "        0.09429525,  0.13025338])"
      ]
     },
     "execution_count": 18,
     "metadata": {},
     "output_type": "execute_result"
    }
   ],
   "source": [
    "# build a a function that takes in a vector and normalizes it\n",
    "def vector(x):\n",
    "    data = np.array(x)\n",
    "    values = (data - data.min())/(data.max()-data.min())\n",
    "    return values\n",
    "\n",
    "vector(df_main['median_income'])"
   ]
  },
  {
   "cell_type": "code",
   "execution_count": 17,
   "metadata": {
    "collapsed": false
   },
   "outputs": [
    {
     "data": {
      "text/plain": [
       "array([ 2.34470896,  2.33218146,  1.78265622, ..., -1.14256563,\n",
       "       -1.05455737, -0.78011057])"
      ]
     },
     "execution_count": 17,
     "metadata": {},
     "output_type": "execute_result"
    }
   ],
   "source": [
    "# build a function that takes in a vector and standardizes it\n",
    "\n",
    "def standard(x):\n",
    "    data = np.array(x)\n",
    "    values = (data - np.mean(data)) / (statistics.stdev(data))\n",
    "    return values\n",
    "\n",
    "standard(df_main['median_income'])"
   ]
  },
  {
   "cell_type": "code",
   "execution_count": 35,
   "metadata": {
    "collapsed": false
   },
   "outputs": [
    {
     "name": "stdout",
     "output_type": "stream",
     "text": [
      "By using df_main, I found that this data set has 20640 rows × 5 columns\n",
      "Another options is using len rows : 20640\n"
     ]
    }
   ],
   "source": [
    "# 3a. How many rows does this data set have?\n",
    "df_main\n",
    "print(\"By using df_main, I found that this data set has 20640 rows × 5 columns\")\n",
    "\n",
    "# another option\n",
    "print(\"Another options is using len\", \"rows\", \":\", len(df_main))"
   ]
  },
  {
   "cell_type": "code",
   "execution_count": 37,
   "metadata": {
    "collapsed": false
   },
   "outputs": [
    {
     "name": "stdout",
     "output_type": "stream",
     "text": [
      "For our data set, the median_house_value would be our vector as it's calculated by the other figures\n"
     ]
    }
   ],
   "source": [
    "# 3b. What is the target vector?\n",
    "# reference: https://h2o.ai/wiki/target-variable/\n",
    "# The target variable is the variable whose values are modeled and predicted by other variables. \n",
    "# A predictor variable is a variable whose values will be used to predict the value of the target variable.\n",
    "print(\"For our data set, the median_house_value would be our vector as it's calculated by the other figures\")"
   ]
  },
  {
   "cell_type": "code",
   "execution_count": 60,
   "metadata": {
    "collapsed": false
   },
   "outputs": [
    {
     "data": {
      "text/html": [
       "<div>\n",
       "<table border=\"1\" class=\"dataframe\">\n",
       "  <thead>\n",
       "    <tr style=\"text-align: right;\">\n",
       "      <th></th>\n",
       "      <th>housing_median_age</th>\n",
       "      <th>total_bedrooms</th>\n",
       "      <th>households</th>\n",
       "      <th>median_income</th>\n",
       "      <th>median_house_value</th>\n",
       "      <th>average_bedrooms_per</th>\n",
       "    </tr>\n",
       "  </thead>\n",
       "  <tbody>\n",
       "    <tr>\n",
       "      <th>0</th>\n",
       "      <td>41</td>\n",
       "      <td>129.0</td>\n",
       "      <td>126</td>\n",
       "      <td>8.3252</td>\n",
       "      <td>452600.0</td>\n",
       "      <td>1.023810</td>\n",
       "    </tr>\n",
       "    <tr>\n",
       "      <th>1</th>\n",
       "      <td>21</td>\n",
       "      <td>1106.0</td>\n",
       "      <td>1138</td>\n",
       "      <td>8.3014</td>\n",
       "      <td>358500.0</td>\n",
       "      <td>0.971880</td>\n",
       "    </tr>\n",
       "    <tr>\n",
       "      <th>2</th>\n",
       "      <td>52</td>\n",
       "      <td>190.0</td>\n",
       "      <td>177</td>\n",
       "      <td>7.2574</td>\n",
       "      <td>352100.0</td>\n",
       "      <td>1.073446</td>\n",
       "    </tr>\n",
       "    <tr>\n",
       "      <th>3</th>\n",
       "      <td>52</td>\n",
       "      <td>235.0</td>\n",
       "      <td>219</td>\n",
       "      <td>5.6431</td>\n",
       "      <td>341300.0</td>\n",
       "      <td>1.073059</td>\n",
       "    </tr>\n",
       "    <tr>\n",
       "      <th>4</th>\n",
       "      <td>52</td>\n",
       "      <td>280.0</td>\n",
       "      <td>259</td>\n",
       "      <td>3.8462</td>\n",
       "      <td>342200.0</td>\n",
       "      <td>1.081081</td>\n",
       "    </tr>\n",
       "  </tbody>\n",
       "</table>\n",
       "</div>"
      ],
      "text/plain": [
       "   housing_median_age  total_bedrooms  households  median_income  \\\n",
       "0                  41           129.0         126         8.3252   \n",
       "1                  21          1106.0        1138         8.3014   \n",
       "2                  52           190.0         177         7.2574   \n",
       "3                  52           235.0         219         5.6431   \n",
       "4                  52           280.0         259         3.8462   \n",
       "\n",
       "   median_house_value  average_bedrooms_per  \n",
       "0            452600.0              1.023810  \n",
       "1            358500.0              0.971880  \n",
       "2            352100.0              1.073446  \n",
       "3            341300.0              1.073059  \n",
       "4            342200.0              1.081081  "
      ]
     },
     "execution_count": 60,
     "metadata": {},
     "output_type": "execute_result"
    }
   ],
   "source": [
    "# 3c. Create a new feature by taking total bedrooms/number of households. What does this represent?\n",
    "df_main['average_bedrooms_per'] = df_main['total_bedrooms'] / df_main['households']\n",
    "df_main.head(5)\n",
    "# This creates a new column with a calculated average bedrooms found per neighborhood"
   ]
  },
  {
   "cell_type": "code",
   "execution_count": 46,
   "metadata": {
    "collapsed": false
   },
   "outputs": [
    {
     "data": {
      "text/html": [
       "<div>\n",
       "<table border=\"1\" class=\"dataframe\">\n",
       "  <thead>\n",
       "    <tr style=\"text-align: right;\">\n",
       "      <th></th>\n",
       "      <th>housing_median_age</th>\n",
       "      <th>median_income</th>\n",
       "      <th>average_bedrooms_per</th>\n",
       "    </tr>\n",
       "  </thead>\n",
       "  <tbody>\n",
       "    <tr>\n",
       "      <th>0</th>\n",
       "      <td>41</td>\n",
       "      <td>8.3252</td>\n",
       "      <td>1.023810</td>\n",
       "    </tr>\n",
       "    <tr>\n",
       "      <th>1</th>\n",
       "      <td>21</td>\n",
       "      <td>8.3014</td>\n",
       "      <td>0.971880</td>\n",
       "    </tr>\n",
       "    <tr>\n",
       "      <th>2</th>\n",
       "      <td>52</td>\n",
       "      <td>7.2574</td>\n",
       "      <td>1.073446</td>\n",
       "    </tr>\n",
       "    <tr>\n",
       "      <th>3</th>\n",
       "      <td>52</td>\n",
       "      <td>5.6431</td>\n",
       "      <td>1.073059</td>\n",
       "    </tr>\n",
       "    <tr>\n",
       "      <th>4</th>\n",
       "      <td>52</td>\n",
       "      <td>3.8462</td>\n",
       "      <td>1.081081</td>\n",
       "    </tr>\n",
       "  </tbody>\n",
       "</table>\n",
       "</div>"
      ],
      "text/plain": [
       "   housing_median_age  median_income  average_bedrooms_per\n",
       "0                  41         8.3252              1.023810\n",
       "1                  21         8.3014              0.971880\n",
       "2                  52         7.2574              1.073446\n",
       "3                  52         5.6431              1.073059\n",
       "4                  52         3.8462              1.081081"
      ]
     },
     "execution_count": 46,
     "metadata": {},
     "output_type": "execute_result"
    }
   ],
   "source": [
    "# 3d. Create a new data frame with 3 features: Media age, media income and new feature from c\n",
    "df_new = df_main[['housing_median_age', 'median_income', 'average_bedrooms_per']]\n",
    "df_new.head(5)"
   ]
  },
  {
   "cell_type": "code",
   "execution_count": 66,
   "metadata": {
    "collapsed": false
   },
   "outputs": [
    {
     "name": "stdout",
     "output_type": "stream",
     "text": [
      "       housing_median_age  median_income  average_bedrooms_per\n",
      "0                0.983350       2.344709                   NaN\n",
      "1               -0.607765       2.332181                   NaN\n",
      "2                1.858463       1.782656                   NaN\n",
      "3                1.858463       0.932945                   NaN\n",
      "4                1.858463      -0.012881                   NaN\n",
      "5                1.858463       0.087445                   NaN\n",
      "6                1.858463      -0.111364                   NaN\n",
      "7                1.858463      -0.395127                   NaN\n",
      "8                1.062905      -0.942336                   NaN\n",
      "9                1.858463      -0.094467                   NaN\n",
      "10               1.858463      -0.351386                   NaN\n",
      "11               1.858463      -0.315909                   NaN\n",
      "12               1.858463      -0.418814                   NaN\n",
      "13               1.858463      -0.630096                   NaN\n",
      "14               1.858463      -1.028502                   NaN\n",
      "15               1.699351      -0.918860                   NaN\n",
      "16               1.858463      -0.576723                   NaN\n",
      "17               1.858463      -0.921387                   NaN\n",
      "18               1.699351      -0.989341                   NaN\n",
      "19               1.858463      -0.667100                   NaN\n",
      "20               0.903794      -1.322688                   NaN\n",
      "21               1.062905      -1.135460                   NaN\n",
      "22               1.858463      -1.129407                   NaN\n",
      "23               1.858463      -0.889595                   NaN\n",
      "24               1.858463      -0.668837                   NaN\n",
      "25               0.983350      -0.772110                   NaN\n",
      "26               1.619795      -0.742686                   NaN\n",
      "27               1.858463      -1.085718                   NaN\n",
      "28               1.699351      -1.172884                   NaN\n",
      "29               1.858463      -1.149145                   NaN\n",
      "...                   ...            ...                   ...\n",
      "20610           -0.050875      -1.319898                   NaN\n",
      "20611           -0.130431      -1.360639                   NaN\n",
      "20612           -0.209986      -1.251313                   NaN\n",
      "20613            0.187792      -1.250049                   NaN\n",
      "20614           -0.209986      -0.737528                   NaN\n",
      "20615           -0.448653      -0.795270                   NaN\n",
      "20616           -1.085099      -0.959970                   NaN\n",
      "20617           -0.687321      -0.299276                   NaN\n",
      "20618           -0.289542      -0.853065                   NaN\n",
      "20619           -0.528209      -0.600252                   NaN\n",
      "20620            0.903794       0.364155                   NaN\n",
      "20621            0.665127      -0.791954                   NaN\n",
      "20622           -0.687321      -0.765320                   NaN\n",
      "20623            0.267348      -0.551194                   NaN\n",
      "20624           -1.005544      -0.419393                   NaN\n",
      "20625            0.665127       0.133870                   NaN\n",
      "20626            0.585571      -0.896911                   NaN\n",
      "20627           -1.880657      -0.458291                   NaN\n",
      "20628           -0.766876      -0.671364                   NaN\n",
      "20629           -0.050875      -0.935020                   NaN\n",
      "20630           -1.403322      -0.159684                   NaN\n",
      "20631           -1.085099      -0.185686                   NaN\n",
      "20632           -1.085099      -0.392495                   NaN\n",
      "20633           -0.130431      -0.695418                   NaN\n",
      "20634           -0.050875      -0.083256                   NaN\n",
      "20635           -0.289542      -1.216099                   NaN\n",
      "20636           -0.846432      -0.691576                   NaN\n",
      "20637           -0.925988      -1.142566                   NaN\n",
      "20638           -0.846432      -1.054557                   NaN\n",
      "20639           -1.005544      -0.780111                   NaN\n",
      "\n",
      "[20640 rows x 3 columns]\n"
     ]
    }
   ],
   "source": [
    "# 3e. Take data frame from part d and apply data standardization to the features\n",
    "\n",
    "# df_new['average_bedrooms_per'].astype(int) - attempted to change integer type to change NaN\n",
    "print(df_new.apply(standard, axis = 0))"
   ]
  }
 ],
 "metadata": {
  "anaconda-cloud": {},
  "kernelspec": {
   "display_name": "Python [conda root]",
   "language": "python",
   "name": "conda-root-py"
  },
  "language_info": {
   "codemirror_mode": {
    "name": "ipython",
    "version": 3
   },
   "file_extension": ".py",
   "mimetype": "text/x-python",
   "name": "python",
   "nbconvert_exporter": "python",
   "pygments_lexer": "ipython3",
   "version": "3.5.2"
  }
 },
 "nbformat": 4,
 "nbformat_minor": 1
}
