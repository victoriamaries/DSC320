{
 "cells": [
  {
   "cell_type": "markdown",
   "metadata": {},
   "source": [
    "Sketch a graph of f and the rectangles that make up the right Riemann sum R4 on the interval [0, 2].\n",
    "This can be done by hand"
   ]
  },
  {
   "cell_type": "code",
   "execution_count": 1,
   "metadata": {
    "collapsed": true
   },
   "outputs": [],
   "source": [
    "import numpy as np\n",
    "import pandas as pd\n",
    "import math"
   ]
  },
  {
   "cell_type": "code",
   "execution_count": 2,
   "metadata": {
    "collapsed": true
   },
   "outputs": [],
   "source": [
    "f = lambda x: math.sqrt(4 - x**2)"
   ]
  },
  {
   "cell_type": "code",
   "execution_count": 15,
   "metadata": {
    "collapsed": true
   },
   "outputs": [],
   "source": [
    "# define a function based on above provided problem\n",
    "# reference: https://pythonnumericalmethods.berkeley.edu/notebooks/chapter21.02-Riemanns-Integral.html\n",
    "\n",
    "def riemann(a,b,n,f):\n",
    "    x = (b-a)/n\n",
    "    value = [f(a + k * x) * x for k in range(1, n + 1)]\n",
    "    df = pd.Series(value)\n",
    "    return df.sum()"
   ]
  },
  {
   "cell_type": "markdown",
   "metadata": {},
   "source": [
    "Use the function you created in the previous problem to calculate R4"
   ]
  },
  {
   "cell_type": "code",
   "execution_count": 14,
   "metadata": {
    "collapsed": false
   },
   "outputs": [
    {
     "name": "stdout",
     "output_type": "stream",
     "text": [
      "R4:  2.4957090681024408\n"
     ]
    }
   ],
   "source": [
    "# assign and print \n",
    "\n",
    "a = 0\n",
    "b = 2 \n",
    "n = 4\n",
    "\n",
    "print(\"R4: \", riemann(a,b,n,f))"
   ]
  },
  {
   "cell_type": "markdown",
   "metadata": {},
   "source": [
    "Calculate appropriate right Riemann sums to find the area under the curve y = f(x) on the interval\n",
    "[0, 2]. Does the value of this area have a special name"
   ]
  },
  {
   "cell_type": "code",
   "execution_count": 18,
   "metadata": {
    "collapsed": false
   },
   "outputs": [
    {
     "name": "stdout",
     "output_type": "stream",
     "text": [
      "3.0982685110985\n",
      "3.1204170317790467\n",
      "3.1395554669110277\n",
      "3.141590652413821\n",
      "Answer: We found pi... 3.14\n"
     ]
    }
   ],
   "source": [
    "n2 = 50\n",
    "n3 = 100\n",
    "n4 = 1000\n",
    "n5 = 1000000\n",
    "\n",
    "print(riemann(a,b,n2,f))\n",
    "print(riemann(a,b,n3,f))\n",
    "print(riemann(a,b,n4,f))\n",
    "print(riemann(a,b,n5,f))\n",
    "\n",
    "print(\"Answer: We found pi... 3.14\")"
   ]
  }
 ],
 "metadata": {
  "anaconda-cloud": {},
  "kernelspec": {
   "display_name": "Python [conda root]",
   "language": "python",
   "name": "conda-root-py"
  },
  "language_info": {
   "codemirror_mode": {
    "name": "ipython",
    "version": 3
   },
   "file_extension": ".py",
   "mimetype": "text/x-python",
   "name": "python",
   "nbconvert_exporter": "python",
   "pygments_lexer": "ipython3",
   "version": "3.5.2"
  }
 },
 "nbformat": 4,
 "nbformat_minor": 1
}
