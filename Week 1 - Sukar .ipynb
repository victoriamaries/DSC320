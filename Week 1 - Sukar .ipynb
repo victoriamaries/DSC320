{
 "cells": [
  {
   "cell_type": "code",
   "execution_count": 2,
   "id": "393a5bcf",
   "metadata": {},
   "outputs": [
    {
     "name": "stdout",
     "output_type": "stream",
     "text": [
      "HEllo world\n"
     ]
    }
   ],
   "source": [
    "print(\"HEllo world\")"
   ]
  },
  {
   "cell_type": "code",
   "execution_count": 3,
   "id": "21e48b4b",
   "metadata": {},
   "outputs": [],
   "source": [
    "import numpy as np\n",
    "import pandas as pd"
   ]
  },
  {
   "cell_type": "code",
   "execution_count": 13,
   "id": "9eaf380a",
   "metadata": {},
   "outputs": [
    {
     "data": {
      "text/plain": [
       "4.96655480858378"
      ]
     },
     "execution_count": 13,
     "metadata": {},
     "output_type": "execute_result"
    }
   ],
   "source": [
    "x = np.array([1,2,3])\n",
    "y = np.array([4,6,10])\n",
    "z = x-y\n",
    "z\n",
    "\n",
    "z_sq = z**2\n",
    "z_sq\n",
    "\n",
    "z_sqSum = z_sq.sum()\n",
    "z_sqSum\n",
    "len(x)\n",
    "\n",
    "sq_Av = z_sqSum/len(x)\n",
    "sq_Av\n",
    "\n",
    "RMSE = np.sqrt(sq_Av)\n",
    "RMSE"
   ]
  },
  {
   "cell_type": "code",
   "execution_count": null,
   "id": "4b2894eb",
   "metadata": {},
   "outputs": [],
   "source": []
  }
 ],
 "metadata": {
  "kernelspec": {
   "display_name": "Python 3 (ipykernel)",
   "language": "python",
   "name": "python3"
  },
  "language_info": {
   "codemirror_mode": {
    "name": "ipython",
    "version": 3
   },
   "file_extension": ".py",
   "mimetype": "text/x-python",
   "name": "python",
   "nbconvert_exporter": "python",
   "pygments_lexer": "ipython3",
   "version": "3.9.13"
  }
 },
 "nbformat": 4,
 "nbformat_minor": 5
}
