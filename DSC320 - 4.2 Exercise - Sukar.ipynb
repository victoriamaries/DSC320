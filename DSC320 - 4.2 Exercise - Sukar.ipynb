{
 "cells": [
  {
   "cell_type": "code",
   "execution_count": 3,
   "metadata": {
    "collapsed": false
   },
   "outputs": [],
   "source": [
    "# import libraries \n",
    "import math\n",
    "import sympy as sp\n",
    "\n",
    "x = sp.Symbol('x')"
   ]
  },
  {
   "cell_type": "markdown",
   "metadata": {},
   "source": [
    "1a. Use python code to evaluate f \n",
    "f(x) = 2x**3 - 4x + 1 "
   ]
  },
  {
   "cell_type": "code",
   "execution_count": 10,
   "metadata": {
    "collapsed": true
   },
   "outputs": [],
   "source": [
    "# assign values close to 3\n",
    "fx1 = 2\n",
    "fx2 = 2.25\n",
    "fx3 = 2.50\n",
    "fx4 = 2.75\n",
    "fx5 = 2.9999"
   ]
  },
  {
   "cell_type": "code",
   "execution_count": 13,
   "metadata": {
    "collapsed": false
   },
   "outputs": [
    {
     "name": "stdout",
     "output_type": "stream",
     "text": [
      "9 14.78125 22.25 31.59375 42.99500017999799\n",
      "The closer we get to whole number 3, the closer we get to whole number 43\n"
     ]
    }
   ],
   "source": [
    "# solve for f\n",
    "\n",
    "fy1 = 2*fx1**3 - 4*fx1 + 1\n",
    "fy2 = 2*fx2**3 - 4*fx2 + 1\n",
    "fy3 = 2*fx3**3 - 4*fx3 + 1\n",
    "fy4 = 2*fx4**3 - 4*fx4 + 1\n",
    "fy5 = 2*fx5**3 - 4*fx5 + 1\n",
    "\n",
    "print(fy1, fy2, fy3, fy4, fy5)\n",
    "print(\"The closer we get to whole number 3, the closer we get to whole number 43\")"
   ]
  },
  {
   "cell_type": "markdown",
   "metadata": {},
   "source": [
    "1b. use code to evaluate the function g\n",
    "g(x) = (e**2 - 1) / x"
   ]
  },
  {
   "cell_type": "code",
   "execution_count": 14,
   "metadata": {
    "collapsed": true
   },
   "outputs": [],
   "source": [
    "# assign values for x\n",
    "e = math.e\n",
    "\n",
    "gx1 = .2\n",
    "gx2 = .1\n",
    "gx3 = .01\n",
    "gx4 = .001\n",
    "gx5 = .0001"
   ]
  },
  {
   "cell_type": "code",
   "execution_count": 16,
   "metadata": {
    "collapsed": false
   },
   "outputs": [
    {
     "name": "stdout",
     "output_type": "stream",
     "text": [
      "1.1070137908008493 1.0517091807564771 1.005016708416795 1.0005001667083846 1.000050001667141\n",
      "The limit is 1 as x approaches 0\n"
     ]
    }
   ],
   "source": [
    "gy1 = (e**gx1 - 1) / gx1\n",
    "gy2 = (e**gx2 - 1) / gx2\n",
    "gy3 = (e**gx3 - 1) / gx3\n",
    "gy4 = (e**gx4 - 1) / gx4\n",
    "gy5 = (e**gx5 - 1) / gx5\n",
    "\n",
    "print(gy1, gy2, gy3, gy4, gy5)\n",
    "print(\"The limit is 1 as x approaches 0\")"
   ]
  },
  {
   "cell_type": "markdown",
   "metadata": {},
   "source": [
    "1c. Could the limits be calculated by plugging in the value? "
   ]
  },
  {
   "cell_type": "code",
   "execution_count": 17,
   "metadata": {
    "collapsed": false
   },
   "outputs": [
    {
     "name": "stdout",
     "output_type": "stream",
     "text": [
      "For 1a yes because you are working towards the limit but for 1b, no because 0 won't be accepted.\n"
     ]
    }
   ],
   "source": [
    "print(\"For 1a yes because you are working towards the limit but for 1b, no because 0 won't be accepted.\")"
   ]
  },
  {
   "cell_type": "markdown",
   "metadata": {},
   "source": [
    "2. Average rate of change (ARC) function for x = f(b)-f(a)/b-a"
   ]
  },
  {
   "cell_type": "code",
   "execution_count": 18,
   "metadata": {
    "collapsed": true
   },
   "outputs": [],
   "source": [
    "# define ARC function\n",
    "def arc(x): \n",
    "    return 3*x**2"
   ]
  },
  {
   "cell_type": "code",
   "execution_count": 20,
   "metadata": {
    "collapsed": false
   },
   "outputs": [
    {
     "name": "stdout",
     "output_type": "stream",
     "text": [
      "18.0\n"
     ]
    }
   ],
   "source": [
    "# create function and input two numbers \n",
    "def arc1(func, a, b):\n",
    "    return(func(b) - func(a)) / (b-a)\n",
    "print(arc1(arc, 2, 4))"
   ]
  },
  {
   "cell_type": "markdown",
   "metadata": {},
   "source": [
    "3. Define the ARC of Instantaneous Rate of Change function\n",
    "f(t) = 4.9t**2"
   ]
  },
  {
   "cell_type": "code",
   "execution_count": 21,
   "metadata": {
    "collapsed": true
   },
   "outputs": [],
   "source": [
    "# define function for ARC IRC\n",
    "\n",
    "def seconds(t):\n",
    "    return 4.9*t**2"
   ]
  },
  {
   "cell_type": "code",
   "execution_count": 22,
   "metadata": {
    "collapsed": false
   },
   "outputs": [
    {
     "name": "stdout",
     "output_type": "stream",
     "text": [
      "53.89999999999999\n"
     ]
    }
   ],
   "source": [
    "#3a. average speed of 5-6 seconds\n",
    "print(arc1(seconds, 5, 6))"
   ]
  },
  {
   "cell_type": "code",
   "execution_count": 23,
   "metadata": {
    "collapsed": false
   },
   "outputs": [
    {
     "name": "stdout",
     "output_type": "stream",
     "text": [
      "51.45000000000002\n"
     ]
    }
   ],
   "source": [
    "#3b. average speed of 5-5.5 seconds\n",
    "print(arc1(seconds, 5, 5.5))"
   ]
  },
  {
   "cell_type": "code",
   "execution_count": 24,
   "metadata": {
    "collapsed": false
   },
   "outputs": [
    {
     "name": "stdout",
     "output_type": "stream",
     "text": [
      "49.490000000000016\n"
     ]
    }
   ],
   "source": [
    "#3c. average speed of 5-5.1 seconds\n",
    "\n",
    "print(arc1(seconds, 5, 5.1))"
   ]
  },
  {
   "cell_type": "code",
   "execution_count": 26,
   "metadata": {
    "collapsed": false
   },
   "outputs": [
    {
     "name": "stdout",
     "output_type": "stream",
     "text": [
      "49.00000000000002\n",
      "48.51000000000002\n",
      "The average comes out to approx 49\n"
     ]
    }
   ],
   "source": [
    "#3d. Instantaenous speeed at t=5\n",
    "print(arc1(seconds, 4.9,5.1))\n",
    "print(arc1(seconds, 4.9,5))\n",
    "print(\"The average comes out to approx 49\")"
   ]
  },
  {
   "cell_type": "code",
   "execution_count": 29,
   "metadata": {
    "collapsed": false
   },
   "outputs": [
    {
     "name": "stdout",
     "output_type": "stream",
     "text": [
      "9.8*x\n"
     ]
    }
   ],
   "source": [
    "#3e. Fine the derivative of f\n",
    "# reference: https://dev.to/erikwhiting88/calculate-derivative-functions-in-python-h58\n",
    "\n",
    "print(sp.diff(4.9*(x**2)))\n",
    "\n",
    "def der(t):\n",
    "    return 2*4.9*t"
   ]
  },
  {
   "cell_type": "code",
   "execution_count": 30,
   "metadata": {
    "collapsed": false
   },
   "outputs": [
    {
     "name": "stdout",
     "output_type": "stream",
     "text": [
      "f. 49.0\n",
      "It's the same (49) because the instantaneous rate of change is at any given point\n"
     ]
    }
   ],
   "source": [
    "#3f. Evaluate the derivative of f @ t = 5\n",
    "\n",
    "print('f.',der(5))\n",
    "print(\"It's the same (49) because the instantaneous rate of change is at any given point\")"
   ]
  },
  {
   "cell_type": "code",
   "execution_count": 34,
   "metadata": {
    "collapsed": false
   },
   "outputs": [
    {
     "name": "stdout",
     "output_type": "stream",
     "text": [
      "The selling price would be $ 26200 because it's 5 years old and a rating of 8\n"
     ]
    }
   ],
   "source": [
    "#4a. What is the models predicted selling rate \n",
    "# p = 16000 + 2400C - 1800Y\n",
    "\n",
    "p = 16000 + 2400*8 - 1800*5\n",
    "print(\"The selling price would be $\", p, \"because it's 5 years old and a rating of 8\")"
   ]
  },
  {
   "cell_type": "code",
   "execution_count": 35,
   "metadata": {
    "collapsed": false
   },
   "outputs": [
    {
     "name": "stdout",
     "output_type": "stream",
     "text": [
      "Partial is $2400 which is based on the condition of the vehicle\n"
     ]
    }
   ],
   "source": [
    "#4b. partial of P/C\n",
    "print(\"Partial is $2400 which is based on the condition of the vehicle\")"
   ]
  },
  {
   "cell_type": "code",
   "execution_count": 37,
   "metadata": {
    "collapsed": false
   },
   "outputs": [
    {
     "name": "stdout",
     "output_type": "stream",
     "text": [
      "Partial is less $1800 because the age of the vehicle decreases the value\n"
     ]
    }
   ],
   "source": [
    "#4c. partial if P/Y\n",
    "print(\"Partial is less $1800 because the age of the vehicle decreases the value\")"
   ]
  }
 ],
 "metadata": {
  "anaconda-cloud": {},
  "kernelspec": {
   "display_name": "Python [conda root]",
   "language": "python",
   "name": "conda-root-py"
  },
  "language_info": {
   "codemirror_mode": {
    "name": "ipython",
    "version": 3
   },
   "file_extension": ".py",
   "mimetype": "text/x-python",
   "name": "python",
   "nbconvert_exporter": "python",
   "pygments_lexer": "ipython3",
   "version": "3.5.2"
  }
 },
 "nbformat": 4,
 "nbformat_minor": 1
}
